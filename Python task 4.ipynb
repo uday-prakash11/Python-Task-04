{
 "cells": [
  {
   "cell_type": "markdown",
   "id": "6872870f",
   "metadata": {},
   "source": [
    "1.Write a program to find greatest common divisor (GCD) or highest common factor (HCF) of given two numbers."
   ]
  },
  {
   "cell_type": "code",
   "execution_count": 1,
   "id": "c0db49e4",
   "metadata": {},
   "outputs": [
    {
     "name": "stdout",
     "output_type": "stream",
     "text": [
      "Enter the first number: 78\n",
      "Enter the second number: 24\n",
      "The GCD or HCF of 78 and 24 is 6\n"
     ]
    }
   ],
   "source": [
    "def gcd(a, b):\n",
    "    while b != 0:\n",
    "        a, b = b, a % b\n",
    "    return a\n",
    "\n",
    "# Taking input from the user\n",
    "num1 = int(input(\"Enter the first number: \"))\n",
    "num2 = int(input(\"Enter the second number: \"))\n",
    "\n",
    "# Calculating the GCD or HCF\n",
    "result = gcd(num1, num2)\n",
    "\n",
    "# Printing the result\n",
    "print(\"The GCD or HCF of\", num1, \"and\", num2, \"is\", result)\n"
   ]
  },
  {
   "cell_type": "markdown",
   "id": "97c3265a",
   "metadata": {},
   "source": [
    "2. A three digit number is called Armstrong number if sum of cube of its digit is equal to number itself."
   ]
  },
  {
   "cell_type": "code",
   "execution_count": 8,
   "id": "70005172",
   "metadata": {},
   "outputs": [
    {
     "name": "stdout",
     "output_type": "stream",
     "text": [
      "Enter a three-digit number: 407\n",
      "407 is an Armstrong number.\n"
     ]
    }
   ],
   "source": [
    "def is_armstrong_number(number):\n",
    "    # Convert the number to a string to iterate over its digits\n",
    "    num_str = str(number)\n",
    "\n",
    "    # Check if the number has three digits\n",
    "    if len(num_str) != 3:\n",
    "        return False\n",
    "\n",
    "    # Calculate the sum of cubes of digits\n",
    "    sum_of_cubes = 0\n",
    "    for digit in num_str:\n",
    "        sum_of_cubes += int(digit) ** 3\n",
    "\n",
    "    # Check if the sum of cubes is equal to the number itself\n",
    "    if sum_of_cubes == number:\n",
    "        return True\n",
    "    else:\n",
    "        return False\n",
    "\n",
    "# Taking input from the user\n",
    "number = int(input(\"Enter a three-digit number: \"))\n",
    "\n",
    "# Checking if the number is an Armstrong number\n",
    "if is_armstrong_number(number):\n",
    "    print(number, \"is an Armstrong number.\")\n",
    "else:\n",
    "    print(number, \"is not an Armstrong number.\")\n"
   ]
  },
  {
   "cell_type": "markdown",
   "id": "5686c9f3",
   "metadata": {},
   "source": [
    "3. Write a Python program that iterates the integers from 1 to 50. For multiples of three print \"Fizz\" instead of the number and for multiples of five print \"Buzz\". For numbers that are multiples of three and five, print \"FizzBuzz\"."
   ]
  },
  {
   "cell_type": "code",
   "execution_count": 13,
   "id": "f0941f14",
   "metadata": {},
   "outputs": [
    {
     "name": "stdout",
     "output_type": "stream",
     "text": [
      "1\n",
      "2\n",
      "Fizz\n",
      "4\n",
      "Buzz\n",
      "Fizz\n",
      "7\n",
      "8\n",
      "Fizz\n",
      "Buzz\n",
      "11\n",
      "Fizz\n",
      "13\n",
      "14\n",
      "FizzBuzz\n",
      "16\n",
      "17\n",
      "Fizz\n",
      "19\n",
      "Buzz\n",
      "Fizz\n",
      "22\n",
      "23\n",
      "Fizz\n",
      "Buzz\n",
      "26\n",
      "Fizz\n",
      "28\n",
      "29\n",
      "FizzBuzz\n",
      "31\n",
      "32\n",
      "Fizz\n",
      "34\n",
      "Buzz\n",
      "Fizz\n",
      "37\n",
      "38\n",
      "Fizz\n",
      "Buzz\n",
      "41\n",
      "Fizz\n",
      "43\n",
      "44\n",
      "FizzBuzz\n",
      "46\n",
      "47\n",
      "Fizz\n",
      "49\n",
      "Buzz\n"
     ]
    }
   ],
   "source": [
    "for number in range(1, 51):\n",
    "    if number % 3 == 0 and number % 5 == 0:\n",
    "        print(\"FizzBuzz\")\n",
    "    elif number % 3 == 0:\n",
    "        print(\"Fizz\")\n",
    "    elif number % 5 == 0:\n",
    "        print(\"Buzz\")\n",
    "    else:\n",
    "        print(number)\n"
   ]
  },
  {
   "cell_type": "markdown",
   "id": "4edc2314",
   "metadata": {},
   "source": [
    "4. Write a program to count the total number of digits in a number using a while loop."
   ]
  },
  {
   "cell_type": "code",
   "execution_count": 16,
   "id": "e4e54da0",
   "metadata": {},
   "outputs": [
    {
     "name": "stdout",
     "output_type": "stream",
     "text": [
      "Enter a number: 5389\n",
      "The total number of digits in 5389 is 4\n"
     ]
    }
   ],
   "source": [
    "def count_digits(number):\n",
    "    count = 0\n",
    "    while number != 0:\n",
    "        number //= 10\n",
    "        count += 1\n",
    "    return count\n",
    "\n",
    "# Taking input from the user\n",
    "number = int(input(\"Enter a number: \"))\n",
    "\n",
    "# Counting the number of digits\n",
    "result = count_digits(number)\n",
    "\n",
    "# Printing the result\n",
    "print(\"The total number of digits in\", number, \"is\", result)\n"
   ]
  },
  {
   "cell_type": "markdown",
   "id": "ed5ae87e",
   "metadata": {},
   "source": [
    "5. Write a program to print number from 50 to 1."
   ]
  },
  {
   "cell_type": "code",
   "execution_count": 18,
   "id": "1ca6b64c",
   "metadata": {},
   "outputs": [
    {
     "name": "stdout",
     "output_type": "stream",
     "text": [
      "50\n",
      "49\n",
      "48\n",
      "47\n",
      "46\n",
      "45\n",
      "44\n",
      "43\n",
      "42\n",
      "41\n",
      "40\n",
      "39\n",
      "38\n",
      "37\n",
      "36\n",
      "35\n",
      "34\n",
      "33\n",
      "32\n",
      "31\n",
      "30\n",
      "29\n",
      "28\n",
      "27\n",
      "26\n",
      "25\n",
      "24\n",
      "23\n",
      "22\n",
      "21\n",
      "20\n",
      "19\n",
      "18\n",
      "17\n",
      "16\n",
      "15\n",
      "14\n",
      "13\n",
      "12\n",
      "11\n",
      "10\n",
      "9\n",
      "8\n",
      "7\n",
      "6\n",
      "5\n",
      "4\n",
      "3\n",
      "2\n",
      "1\n"
     ]
    }
   ],
   "source": [
    "for number in range(50, 0, -1):\n",
    "    print(number)\n"
   ]
  },
  {
   "cell_type": "markdown",
   "id": "0d62103c",
   "metadata": {},
   "source": [
    "6. Write a Python program to guess a number between 1 and 9. Go to the editor"
   ]
  },
  {
   "cell_type": "code",
   "execution_count": 3,
   "id": "c862d948",
   "metadata": {},
   "outputs": [
    {
     "name": "stdout",
     "output_type": "stream",
     "text": [
      "Guess a number between 1 and 9: 67\n",
      "Too high! Try guessing a lower number.\n",
      "Guess a number between 1 and 9: 6\n",
      "Too low! Try guessing a higher number.\n",
      "Guess a number between 1 and 9: 7\n",
      "Too low! Try guessing a higher number.\n",
      "Guess a number between 1 and 9: 8\n",
      "Too low! Try guessing a higher number.\n",
      "Guess a number between 1 and 9: 9\n",
      "Congratulations! You guessed the correct number.\n"
     ]
    }
   ],
   "source": [
    "import random\n",
    "\n",
    "# Generate a random number between 1 and 9\n",
    "secret_number = random.randint(1, 9)\n",
    "\n",
    "while True:\n",
    "    # Take input from the user\n",
    "    guess = int(input(\"Guess a number between 1 and 9: \"))\n",
    "\n",
    "    if guess == secret_number:\n",
    "        print(\"Congratulations! You guessed the correct number.\")\n",
    "        break\n",
    "    elif guess < secret_number:\n",
    "        print(\"Too low! Try guessing a higher number.\")\n",
    "    else:\n",
    "        print(\"Too high! Try guessing a lower number.\")\n"
   ]
  },
  {
   "cell_type": "code",
   "execution_count": null,
   "id": "7dce5f79",
   "metadata": {},
   "outputs": [],
   "source": []
  }
 ],
 "metadata": {
  "kernelspec": {
   "display_name": "Python 3 (ipykernel)",
   "language": "python",
   "name": "python3"
  },
  "language_info": {
   "codemirror_mode": {
    "name": "ipython",
    "version": 3
   },
   "file_extension": ".py",
   "mimetype": "text/x-python",
   "name": "python",
   "nbconvert_exporter": "python",
   "pygments_lexer": "ipython3",
   "version": "3.9.12"
  }
 },
 "nbformat": 4,
 "nbformat_minor": 5
}
